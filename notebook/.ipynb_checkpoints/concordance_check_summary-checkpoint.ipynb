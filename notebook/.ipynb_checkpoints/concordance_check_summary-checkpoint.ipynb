{
 "cells": [
  {
   "cell_type": "markdown",
   "metadata": {},
   "source": [
    "## Procedures\n",
    "- process plink file\n",
    "    - do standardization on Autocall, Birdseed and Zcall data\n",
    "    - generate merged callset of Autocall, Birdseed and Zcall \n",
    "    - generate merged callset of Autocall and Zcall\n",
    "   \n",
    "- process VCF file\n",
    "    - convert VCF file to plink file\n",
    "    - update fam file\n",
    "        - update the fid, iid and gender by `BestEverCallSet.csv`\n",
    "        - update the phenotype with `GPC_COGS_CAU_Psych.fam.pheno`\n",
    "    - standardize VCF plink file \n",
    "    \n",
    "- run sexcheck "
   ]
  },
  {
   "cell_type": "code",
   "execution_count": null,
   "metadata": {
    "collapsed": true
   },
   "outputs": [],
   "source": []
  }
 ],
 "metadata": {
  "kernelspec": {
   "display_name": "Python 2",
   "language": "python",
   "name": "python2"
  },
  "language_info": {
   "codemirror_mode": {
    "name": "ipython",
    "version": 2
   },
   "file_extension": ".py",
   "mimetype": "text/x-python",
   "name": "python",
   "nbconvert_exporter": "python",
   "pygments_lexer": "ipython2",
   "version": "2.7.12"
  }
 },
 "nbformat": 4,
 "nbformat_minor": 2
}
