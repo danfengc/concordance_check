{
 "cells": [
  {
   "cell_type": "markdown",
   "metadata": {},
   "source": [
    "### Update VCF fam file"
   ]
  },
  {
   "cell_type": "code",
   "execution_count": 1,
   "metadata": {
    "collapsed": false
   },
   "outputs": [],
   "source": [
    "## read in the vcf fam file\n",
    "import pandas as pd\n",
    "\n",
    "f_cols = ['fid', 'iid', 'pid', 'mid', 'gender', 'phenotype']\n",
    "fam_vcf = pd.read_csv('~/projects/VCF GWAS concordance/data/GPC_COGS_CAU_VCF_filtered.fam.original', \n",
    "                          sep=' ', \n",
    "                          names=f_cols)"
   ]
  },
  {
   "cell_type": "code",
   "execution_count": 2,
   "metadata": {
    "collapsed": false
   },
   "outputs": [
    {
     "data": {
      "text/html": [
       "<div>\n",
       "<table border=\"1\" class=\"dataframe\">\n",
       "  <thead>\n",
       "    <tr style=\"text-align: right;\">\n",
       "      <th></th>\n",
       "      <th>fid</th>\n",
       "      <th>iid</th>\n",
       "      <th>pid</th>\n",
       "      <th>mid</th>\n",
       "      <th>gender</th>\n",
       "      <th>phenotype</th>\n",
       "    </tr>\n",
       "  </thead>\n",
       "  <tbody>\n",
       "    <tr>\n",
       "      <th>0</th>\n",
       "      <td>200496200003</td>\n",
       "      <td>R01C01</td>\n",
       "      <td>0</td>\n",
       "      <td>0</td>\n",
       "      <td>0</td>\n",
       "      <td>-9</td>\n",
       "    </tr>\n",
       "    <tr>\n",
       "      <th>1</th>\n",
       "      <td>200496200003</td>\n",
       "      <td>R01C02</td>\n",
       "      <td>0</td>\n",
       "      <td>0</td>\n",
       "      <td>0</td>\n",
       "      <td>-9</td>\n",
       "    </tr>\n",
       "    <tr>\n",
       "      <th>2</th>\n",
       "      <td>200496200003</td>\n",
       "      <td>R02C01</td>\n",
       "      <td>0</td>\n",
       "      <td>0</td>\n",
       "      <td>0</td>\n",
       "      <td>-9</td>\n",
       "    </tr>\n",
       "    <tr>\n",
       "      <th>3</th>\n",
       "      <td>200496200003</td>\n",
       "      <td>R02C02</td>\n",
       "      <td>0</td>\n",
       "      <td>0</td>\n",
       "      <td>0</td>\n",
       "      <td>-9</td>\n",
       "    </tr>\n",
       "    <tr>\n",
       "      <th>4</th>\n",
       "      <td>200496200003</td>\n",
       "      <td>R03C01</td>\n",
       "      <td>0</td>\n",
       "      <td>0</td>\n",
       "      <td>0</td>\n",
       "      <td>-9</td>\n",
       "    </tr>\n",
       "  </tbody>\n",
       "</table>\n",
       "</div>"
      ],
      "text/plain": [
       "            fid     iid  pid  mid  gender  phenotype\n",
       "0  200496200003  R01C01    0    0       0         -9\n",
       "1  200496200003  R01C02    0    0       0         -9\n",
       "2  200496200003  R02C01    0    0       0         -9\n",
       "3  200496200003  R02C02    0    0       0         -9\n",
       "4  200496200003  R03C01    0    0       0         -9"
      ]
     },
     "execution_count": 2,
     "metadata": {},
     "output_type": "execute_result"
    }
   ],
   "source": [
    "fam_vcf.head()"
   ]
  },
  {
   "cell_type": "code",
   "execution_count": 3,
   "metadata": {
    "collapsed": false
   },
   "outputs": [
    {
     "data": {
      "text/plain": [
       "0    200496200003\n",
       "1    200496200003\n",
       "2    200496200003\n",
       "3    200496200003\n",
       "4    200496200003\n",
       "Name: fid, dtype: object"
      ]
     },
     "execution_count": 3,
     "metadata": {},
     "output_type": "execute_result"
    }
   ],
   "source": [
    "fam_vcf['fid'] = fam_vcf['fid'].apply(lambda x: str(x))\n",
    "fam_vcf['fid'].head()"
   ]
  },
  {
   "cell_type": "code",
   "execution_count": 4,
   "metadata": {
    "collapsed": true
   },
   "outputs": [],
   "source": [
    "fam_vcf['CHIP_WELL_BARCODE'] = fam_vcf[['fid', 'iid']].apply(lambda x: '_'.join(x), axis=1)"
   ]
  },
  {
   "cell_type": "code",
   "execution_count": 5,
   "metadata": {
    "collapsed": false
   },
   "outputs": [
    {
     "data": {
      "text/plain": [
       "0    200496200003_R01C01\n",
       "1    200496200003_R01C02\n",
       "2    200496200003_R02C01\n",
       "3    200496200003_R02C02\n",
       "4    200496200003_R03C01\n",
       "Name: CHIP_WELL_BARCODE, dtype: object"
      ]
     },
     "execution_count": 5,
     "metadata": {},
     "output_type": "execute_result"
    }
   ],
   "source": [
    "fam_vcf['CHIP_WELL_BARCODE'].head()"
   ]
  },
  {
   "cell_type": "code",
   "execution_count": 6,
   "metadata": {
    "collapsed": false
   },
   "outputs": [],
   "source": [
    "## read in BestEverCallSet.csv\n",
    "# CHIP_WELL_BARCODE      RESEARCH_PROJECT_ID         SAMPLE_LSID       SAMPLE_ALIAS\n",
    "# SAMPLE_ID       PARTICIPANT_ID       COLLABORATOR_PARTICIPANT_ID         REPORTED_GENDER\n",
    "# CHIP_TYPE        PRODUCT_ORDER_ID          PRODUCT_NAME         PRODUCT_FAMILY\n",
    "# PRODUCT_PART_NUMBER      LAB_BATCH\n",
    "id_cols = ['CHIP_WELL_BARCODE', \n",
    "           'RESEARCH_PROJECT_ID',\n",
    "           'SAMPLE_LSID',\n",
    "           'SAMPLE_ALIAS',\n",
    "           'SAMPLE_ID',\n",
    "           'PARTICIPANT_ID',\n",
    "           'COLLABORATOR_PARTICIPANT_ID'\n",
    "           'REPORTED_GENDER',\n",
    "           'CHIP_TYPE',\n",
    "           'PRODUCT_ORDER_ID',      \n",
    "           'PRODUCT_NAME',\n",
    "           'PRODUCT_FAMILY',\n",
    "           'PRODUCT_PART_NUMBER',\n",
    "           'LAB_BATCH']\n",
    "callSet = pd.read_csv('~/projects/VCF GWAS concordance/data/BestEverCallSet.csv', \n",
    "                          sep=',')\n"
   ]
  },
  {
   "cell_type": "code",
   "execution_count": 7,
   "metadata": {
    "collapsed": false
   },
   "outputs": [
    {
     "data": {
      "text/html": [
       "<div>\n",
       "<table border=\"1\" class=\"dataframe\">\n",
       "  <thead>\n",
       "    <tr style=\"text-align: right;\">\n",
       "      <th></th>\n",
       "      <th>ID</th>\n",
       "      <th>CHIP_WELL_BARCODE</th>\n",
       "      <th>RESEARCH_PROJECT_ID</th>\n",
       "      <th>SAMPLE_LSID</th>\n",
       "      <th>SAMPLE_ALIAS</th>\n",
       "      <th>SAMPLE_ID</th>\n",
       "      <th>PARTICIPANT_ID</th>\n",
       "      <th>COLLABORATOR_PARTICIPANT_ID</th>\n",
       "      <th>REPORTED_GENDER</th>\n",
       "      <th>CHIP_TYPE</th>\n",
       "      <th>PRODUCT_ORDER_ID</th>\n",
       "      <th>PRODUCT_NAME</th>\n",
       "      <th>PRODUCT_FAMILY</th>\n",
       "      <th>PRODUCT_PART_NUMBER</th>\n",
       "      <th>LAB_BATCH</th>\n",
       "    </tr>\n",
       "  </thead>\n",
       "  <tbody>\n",
       "    <tr>\n",
       "      <th>0</th>\n",
       "      <td>1</td>\n",
       "      <td>200598830050_R03C02</td>\n",
       "      <td>RP-48</td>\n",
       "      <td>broadinstitute.org:bsp.prod.sample:CMQ2B</td>\n",
       "      <td>05C46935</td>\n",
       "      <td>SM-CMQ2B</td>\n",
       "      <td>PT-167XM</td>\n",
       "      <td>05C46935</td>\n",
       "      <td>M</td>\n",
       "      <td>PsychChip_v1-1_15073391_A1</td>\n",
       "      <td>PDO-9246</td>\n",
       "      <td>Infinium Psych Array Processing v2</td>\n",
       "      <td>Whole Genome Genotyping</td>\n",
       "      <td>P-WG-0055</td>\n",
       "      <td>ARRAY-6365</td>\n",
       "    </tr>\n",
       "    <tr>\n",
       "      <th>1</th>\n",
       "      <td>2</td>\n",
       "      <td>200598830050_R01C02</td>\n",
       "      <td>RP-48</td>\n",
       "      <td>broadinstitute.org:bsp.prod.sample:CMQ1Y</td>\n",
       "      <td>02C10335</td>\n",
       "      <td>SM-CMQ1Y</td>\n",
       "      <td>PT-1682J</td>\n",
       "      <td>02C10335</td>\n",
       "      <td>M</td>\n",
       "      <td>PsychChip_v1-1_15073391_A1</td>\n",
       "      <td>PDO-9246</td>\n",
       "      <td>Infinium Psych Array Processing v2</td>\n",
       "      <td>Whole Genome Genotyping</td>\n",
       "      <td>P-WG-0055</td>\n",
       "      <td>ARRAY-6365</td>\n",
       "    </tr>\n",
       "    <tr>\n",
       "      <th>2</th>\n",
       "      <td>3</td>\n",
       "      <td>200598830050_R02C01</td>\n",
       "      <td>RP-48</td>\n",
       "      <td>broadinstitute.org:bsp.prod.sample:CMQ2M</td>\n",
       "      <td>06C61597</td>\n",
       "      <td>SM-CMQ2M</td>\n",
       "      <td>PT-1KJ86</td>\n",
       "      <td>06C61597</td>\n",
       "      <td>F</td>\n",
       "      <td>PsychChip_v1-1_15073391_A1</td>\n",
       "      <td>PDO-9246</td>\n",
       "      <td>Infinium Psych Array Processing v2</td>\n",
       "      <td>Whole Genome Genotyping</td>\n",
       "      <td>P-WG-0055</td>\n",
       "      <td>ARRAY-6365</td>\n",
       "    </tr>\n",
       "    <tr>\n",
       "      <th>3</th>\n",
       "      <td>4</td>\n",
       "      <td>200598830050_R03C01</td>\n",
       "      <td>RP-48</td>\n",
       "      <td>broadinstitute.org:bsp.prod.sample:CMPZW</td>\n",
       "      <td>05C49161</td>\n",
       "      <td>SM-CMPZW</td>\n",
       "      <td>PT-163Y2</td>\n",
       "      <td>05C49161</td>\n",
       "      <td>F</td>\n",
       "      <td>PsychChip_v1-1_15073391_A1</td>\n",
       "      <td>PDO-9246</td>\n",
       "      <td>Infinium Psych Array Processing v2</td>\n",
       "      <td>Whole Genome Genotyping</td>\n",
       "      <td>P-WG-0055</td>\n",
       "      <td>ARRAY-6365</td>\n",
       "    </tr>\n",
       "    <tr>\n",
       "      <th>4</th>\n",
       "      <td>5</td>\n",
       "      <td>200598830050_R06C02</td>\n",
       "      <td>RP-48</td>\n",
       "      <td>broadinstitute.org:bsp.prod.sample:CMQ1Z</td>\n",
       "      <td>01C05949</td>\n",
       "      <td>SM-CMQ1Z</td>\n",
       "      <td>PT-1682O</td>\n",
       "      <td>01C05949</td>\n",
       "      <td>F</td>\n",
       "      <td>PsychChip_v1-1_15073391_A1</td>\n",
       "      <td>PDO-9246</td>\n",
       "      <td>Infinium Psych Array Processing v2</td>\n",
       "      <td>Whole Genome Genotyping</td>\n",
       "      <td>P-WG-0055</td>\n",
       "      <td>ARRAY-6365</td>\n",
       "    </tr>\n",
       "  </tbody>\n",
       "</table>\n",
       "</div>"
      ],
      "text/plain": [
       "   ID    CHIP_WELL_BARCODE RESEARCH_PROJECT_ID  \\\n",
       "0   1  200598830050_R03C02               RP-48   \n",
       "1   2  200598830050_R01C02               RP-48   \n",
       "2   3  200598830050_R02C01               RP-48   \n",
       "3   4  200598830050_R03C01               RP-48   \n",
       "4   5  200598830050_R06C02               RP-48   \n",
       "\n",
       "                                SAMPLE_LSID SAMPLE_ALIAS SAMPLE_ID  \\\n",
       "0  broadinstitute.org:bsp.prod.sample:CMQ2B     05C46935  SM-CMQ2B   \n",
       "1  broadinstitute.org:bsp.prod.sample:CMQ1Y     02C10335  SM-CMQ1Y   \n",
       "2  broadinstitute.org:bsp.prod.sample:CMQ2M     06C61597  SM-CMQ2M   \n",
       "3  broadinstitute.org:bsp.prod.sample:CMPZW     05C49161  SM-CMPZW   \n",
       "4  broadinstitute.org:bsp.prod.sample:CMQ1Z     01C05949  SM-CMQ1Z   \n",
       "\n",
       "  PARTICIPANT_ID COLLABORATOR_PARTICIPANT_ID REPORTED_GENDER  \\\n",
       "0       PT-167XM                    05C46935               M   \n",
       "1       PT-1682J                    02C10335               M   \n",
       "2       PT-1KJ86                    06C61597               F   \n",
       "3       PT-163Y2                    05C49161               F   \n",
       "4       PT-1682O                    01C05949               F   \n",
       "\n",
       "                    CHIP_TYPE PRODUCT_ORDER_ID  \\\n",
       "0  PsychChip_v1-1_15073391_A1         PDO-9246   \n",
       "1  PsychChip_v1-1_15073391_A1         PDO-9246   \n",
       "2  PsychChip_v1-1_15073391_A1         PDO-9246   \n",
       "3  PsychChip_v1-1_15073391_A1         PDO-9246   \n",
       "4  PsychChip_v1-1_15073391_A1         PDO-9246   \n",
       "\n",
       "                         PRODUCT_NAME           PRODUCT_FAMILY  \\\n",
       "0  Infinium Psych Array Processing v2  Whole Genome Genotyping   \n",
       "1  Infinium Psych Array Processing v2  Whole Genome Genotyping   \n",
       "2  Infinium Psych Array Processing v2  Whole Genome Genotyping   \n",
       "3  Infinium Psych Array Processing v2  Whole Genome Genotyping   \n",
       "4  Infinium Psych Array Processing v2  Whole Genome Genotyping   \n",
       "\n",
       "  PRODUCT_PART_NUMBER   LAB_BATCH  \n",
       "0           P-WG-0055  ARRAY-6365  \n",
       "1           P-WG-0055  ARRAY-6365  \n",
       "2           P-WG-0055  ARRAY-6365  \n",
       "3           P-WG-0055  ARRAY-6365  \n",
       "4           P-WG-0055  ARRAY-6365  "
      ]
     },
     "execution_count": 7,
     "metadata": {},
     "output_type": "execute_result"
    }
   ],
   "source": [
    "callSet.head()"
   ]
  },
  {
   "cell_type": "code",
   "execution_count": 8,
   "metadata": {
    "collapsed": false
   },
   "outputs": [],
   "source": [
    "# merge callSet & fam_vcf\n",
    "#   fam_v$ID <- id$COLLABORATOR_PARTICIPANT_ID[indx]\n",
    "#   fam_v$SAMPLE_ID <- id$SAMPLE_ID[indx]\n",
    "#   fam_v$REPORTED_GENDER <- id$REPORTED_GENDER[indx]\n",
    "#   fam_v$SEX <- 1\n",
    "#   fam_v$SEX[fam_v$REPORTED_GENDER=='F'] <- 2"
   ]
  },
  {
   "cell_type": "code",
   "execution_count": 9,
   "metadata": {
    "collapsed": false
   },
   "outputs": [],
   "source": [
    "fam_merged = fam_vcf.merge(callSet, left_on='CHIP_WELL_BARCODE', right_on='CHIP_WELL_BARCODE', how='left')"
   ]
  },
  {
   "cell_type": "code",
   "execution_count": 10,
   "metadata": {
    "collapsed": false
   },
   "outputs": [
    {
     "data": {
      "text/html": [
       "<div>\n",
       "<table border=\"1\" class=\"dataframe\">\n",
       "  <thead>\n",
       "    <tr style=\"text-align: right;\">\n",
       "      <th></th>\n",
       "      <th>fid</th>\n",
       "      <th>iid</th>\n",
       "      <th>pid</th>\n",
       "      <th>mid</th>\n",
       "      <th>gender</th>\n",
       "      <th>phenotype</th>\n",
       "      <th>CHIP_WELL_BARCODE</th>\n",
       "      <th>ID</th>\n",
       "      <th>RESEARCH_PROJECT_ID</th>\n",
       "      <th>SAMPLE_LSID</th>\n",
       "      <th>...</th>\n",
       "      <th>SAMPLE_ID</th>\n",
       "      <th>PARTICIPANT_ID</th>\n",
       "      <th>COLLABORATOR_PARTICIPANT_ID</th>\n",
       "      <th>REPORTED_GENDER</th>\n",
       "      <th>CHIP_TYPE</th>\n",
       "      <th>PRODUCT_ORDER_ID</th>\n",
       "      <th>PRODUCT_NAME</th>\n",
       "      <th>PRODUCT_FAMILY</th>\n",
       "      <th>PRODUCT_PART_NUMBER</th>\n",
       "      <th>LAB_BATCH</th>\n",
       "    </tr>\n",
       "  </thead>\n",
       "  <tbody>\n",
       "    <tr>\n",
       "      <th>0</th>\n",
       "      <td>200496200003</td>\n",
       "      <td>R01C01</td>\n",
       "      <td>0</td>\n",
       "      <td>0</td>\n",
       "      <td>0</td>\n",
       "      <td>-9</td>\n",
       "      <td>200496200003_R01C01</td>\n",
       "      <td>562</td>\n",
       "      <td>RP-48</td>\n",
       "      <td>broadinstitute.org:bsp.prod.sample:CMQHW</td>\n",
       "      <td>...</td>\n",
       "      <td>SM-CMQHW</td>\n",
       "      <td>PT-16682</td>\n",
       "      <td>05C46052</td>\n",
       "      <td>M</td>\n",
       "      <td>PsychChip_v1-1_15073391_A1</td>\n",
       "      <td>PDO-9246</td>\n",
       "      <td>Infinium Psych Array Processing v2</td>\n",
       "      <td>Whole Genome Genotyping</td>\n",
       "      <td>P-WG-0055</td>\n",
       "      <td>ARRAY-6371</td>\n",
       "    </tr>\n",
       "    <tr>\n",
       "      <th>1</th>\n",
       "      <td>200496200003</td>\n",
       "      <td>R01C02</td>\n",
       "      <td>0</td>\n",
       "      <td>0</td>\n",
       "      <td>0</td>\n",
       "      <td>-9</td>\n",
       "      <td>200496200003_R01C02</td>\n",
       "      <td>557</td>\n",
       "      <td>RP-48</td>\n",
       "      <td>broadinstitute.org:bsp.prod.sample:CMQJB</td>\n",
       "      <td>...</td>\n",
       "      <td>SM-CMQJB</td>\n",
       "      <td>PT-162QT</td>\n",
       "      <td>05C48022</td>\n",
       "      <td>M</td>\n",
       "      <td>PsychChip_v1-1_15073391_A1</td>\n",
       "      <td>PDO-9246</td>\n",
       "      <td>Infinium Psych Array Processing v2</td>\n",
       "      <td>Whole Genome Genotyping</td>\n",
       "      <td>P-WG-0055</td>\n",
       "      <td>ARRAY-6371</td>\n",
       "    </tr>\n",
       "    <tr>\n",
       "      <th>2</th>\n",
       "      <td>200496200003</td>\n",
       "      <td>R02C01</td>\n",
       "      <td>0</td>\n",
       "      <td>0</td>\n",
       "      <td>0</td>\n",
       "      <td>-9</td>\n",
       "      <td>200496200003_R02C01</td>\n",
       "      <td>564</td>\n",
       "      <td>RP-48</td>\n",
       "      <td>broadinstitute.org:bsp.prod.sample:CMQJY</td>\n",
       "      <td>...</td>\n",
       "      <td>SM-CMQJY</td>\n",
       "      <td>PT-1KJ7R</td>\n",
       "      <td>05C42110</td>\n",
       "      <td>M</td>\n",
       "      <td>PsychChip_v1-1_15073391_A1</td>\n",
       "      <td>PDO-9246</td>\n",
       "      <td>Infinium Psych Array Processing v2</td>\n",
       "      <td>Whole Genome Genotyping</td>\n",
       "      <td>P-WG-0055</td>\n",
       "      <td>ARRAY-6371</td>\n",
       "    </tr>\n",
       "    <tr>\n",
       "      <th>3</th>\n",
       "      <td>200496200003</td>\n",
       "      <td>R02C02</td>\n",
       "      <td>0</td>\n",
       "      <td>0</td>\n",
       "      <td>0</td>\n",
       "      <td>-9</td>\n",
       "      <td>200496200003_R02C02</td>\n",
       "      <td>566</td>\n",
       "      <td>RP-48</td>\n",
       "      <td>broadinstitute.org:bsp.prod.sample:CMQIN</td>\n",
       "      <td>...</td>\n",
       "      <td>SM-CMQIN</td>\n",
       "      <td>PT-165BU</td>\n",
       "      <td>04C30564</td>\n",
       "      <td>M</td>\n",
       "      <td>PsychChip_v1-1_15073391_A1</td>\n",
       "      <td>PDO-9246</td>\n",
       "      <td>Infinium Psych Array Processing v2</td>\n",
       "      <td>Whole Genome Genotyping</td>\n",
       "      <td>P-WG-0055</td>\n",
       "      <td>ARRAY-6371</td>\n",
       "    </tr>\n",
       "    <tr>\n",
       "      <th>4</th>\n",
       "      <td>200496200003</td>\n",
       "      <td>R03C01</td>\n",
       "      <td>0</td>\n",
       "      <td>0</td>\n",
       "      <td>0</td>\n",
       "      <td>-9</td>\n",
       "      <td>200496200003_R03C01</td>\n",
       "      <td>567</td>\n",
       "      <td>RP-48</td>\n",
       "      <td>broadinstitute.org:bsp.prod.sample:CMQI9</td>\n",
       "      <td>...</td>\n",
       "      <td>SM-CMQI9</td>\n",
       "      <td>PT-1668D</td>\n",
       "      <td>10C102682</td>\n",
       "      <td>M</td>\n",
       "      <td>PsychChip_v1-1_15073391_A1</td>\n",
       "      <td>PDO-9246</td>\n",
       "      <td>Infinium Psych Array Processing v2</td>\n",
       "      <td>Whole Genome Genotyping</td>\n",
       "      <td>P-WG-0055</td>\n",
       "      <td>ARRAY-6371</td>\n",
       "    </tr>\n",
       "  </tbody>\n",
       "</table>\n",
       "<p>5 rows × 21 columns</p>\n",
       "</div>"
      ],
      "text/plain": [
       "            fid     iid  pid  mid  gender  phenotype    CHIP_WELL_BARCODE  \\\n",
       "0  200496200003  R01C01    0    0       0         -9  200496200003_R01C01   \n",
       "1  200496200003  R01C02    0    0       0         -9  200496200003_R01C02   \n",
       "2  200496200003  R02C01    0    0       0         -9  200496200003_R02C01   \n",
       "3  200496200003  R02C02    0    0       0         -9  200496200003_R02C02   \n",
       "4  200496200003  R03C01    0    0       0         -9  200496200003_R03C01   \n",
       "\n",
       "    ID RESEARCH_PROJECT_ID                               SAMPLE_LSID  \\\n",
       "0  562               RP-48  broadinstitute.org:bsp.prod.sample:CMQHW   \n",
       "1  557               RP-48  broadinstitute.org:bsp.prod.sample:CMQJB   \n",
       "2  564               RP-48  broadinstitute.org:bsp.prod.sample:CMQJY   \n",
       "3  566               RP-48  broadinstitute.org:bsp.prod.sample:CMQIN   \n",
       "4  567               RP-48  broadinstitute.org:bsp.prod.sample:CMQI9   \n",
       "\n",
       "      ...     SAMPLE_ID PARTICIPANT_ID COLLABORATOR_PARTICIPANT_ID  \\\n",
       "0     ...      SM-CMQHW       PT-16682                    05C46052   \n",
       "1     ...      SM-CMQJB       PT-162QT                    05C48022   \n",
       "2     ...      SM-CMQJY       PT-1KJ7R                    05C42110   \n",
       "3     ...      SM-CMQIN       PT-165BU                    04C30564   \n",
       "4     ...      SM-CMQI9       PT-1668D                   10C102682   \n",
       "\n",
       "  REPORTED_GENDER                   CHIP_TYPE PRODUCT_ORDER_ID  \\\n",
       "0               M  PsychChip_v1-1_15073391_A1         PDO-9246   \n",
       "1               M  PsychChip_v1-1_15073391_A1         PDO-9246   \n",
       "2               M  PsychChip_v1-1_15073391_A1         PDO-9246   \n",
       "3               M  PsychChip_v1-1_15073391_A1         PDO-9246   \n",
       "4               M  PsychChip_v1-1_15073391_A1         PDO-9246   \n",
       "\n",
       "                         PRODUCT_NAME           PRODUCT_FAMILY  \\\n",
       "0  Infinium Psych Array Processing v2  Whole Genome Genotyping   \n",
       "1  Infinium Psych Array Processing v2  Whole Genome Genotyping   \n",
       "2  Infinium Psych Array Processing v2  Whole Genome Genotyping   \n",
       "3  Infinium Psych Array Processing v2  Whole Genome Genotyping   \n",
       "4  Infinium Psych Array Processing v2  Whole Genome Genotyping   \n",
       "\n",
       "  PRODUCT_PART_NUMBER   LAB_BATCH  \n",
       "0           P-WG-0055  ARRAY-6371  \n",
       "1           P-WG-0055  ARRAY-6371  \n",
       "2           P-WG-0055  ARRAY-6371  \n",
       "3           P-WG-0055  ARRAY-6371  \n",
       "4           P-WG-0055  ARRAY-6371  \n",
       "\n",
       "[5 rows x 21 columns]"
      ]
     },
     "execution_count": 10,
     "metadata": {},
     "output_type": "execute_result"
    }
   ],
   "source": [
    "fam_merged.head()"
   ]
  },
  {
   "cell_type": "code",
   "execution_count": 11,
   "metadata": {
    "collapsed": false
   },
   "outputs": [
    {
     "data": {
      "text/plain": [
       "(3301, 21)"
      ]
     },
     "execution_count": 11,
     "metadata": {},
     "output_type": "execute_result"
    }
   ],
   "source": [
    "fam_merged.shape"
   ]
  },
  {
   "cell_type": "code",
   "execution_count": 12,
   "metadata": {
    "collapsed": false
   },
   "outputs": [],
   "source": [
    "fam_merged['sex'] = fam_merged['REPORTED_GENDER'].apply(lambda x: 1 if x == 'M' else 2)"
   ]
  },
  {
   "cell_type": "code",
   "execution_count": 13,
   "metadata": {
    "collapsed": false
   },
   "outputs": [],
   "source": [
    "## import the phenotype file\n",
    "phenotype = pd.read_csv('~/projects/VCF GWAS concordance/data/GPC_COGS_CAU_Psych.fam.pheno.txt', \n",
    "                          sep='\\t')\n",
    "phenotype['Case Control Status'] = phenotype['Case Control Status'].apply(lambda x: int(x))"
   ]
  },
  {
   "cell_type": "code",
   "execution_count": 14,
   "metadata": {
    "collapsed": false
   },
   "outputs": [
    {
     "data": {
      "text/html": [
       "<div>\n",
       "<table border=\"1\" class=\"dataframe\">\n",
       "  <thead>\n",
       "    <tr style=\"text-align: right;\">\n",
       "      <th></th>\n",
       "      <th>Sample ID</th>\n",
       "      <th>Collection</th>\n",
       "      <th>Collaborator Participant ID</th>\n",
       "      <th>Participant ID</th>\n",
       "      <th>Collaborator Sample ID</th>\n",
       "      <th>Collaborator Sample ID_2</th>\n",
       "      <th>Gender</th>\n",
       "      <th>Primary Disease</th>\n",
       "      <th>Case Control Status</th>\n",
       "      <th>Race</th>\n",
       "    </tr>\n",
       "  </thead>\n",
       "  <tbody>\n",
       "    <tr>\n",
       "      <th>0</th>\n",
       "      <td>SM-4D3L1</td>\n",
       "      <td>Neuropsychiatry / Carlos Pato (USC) - Schizoph...</td>\n",
       "      <td>11C119483</td>\n",
       "      <td>PT-15C6W</td>\n",
       "      <td>262-13409</td>\n",
       "      <td>NaN</td>\n",
       "      <td>Male</td>\n",
       "      <td>Control</td>\n",
       "      <td>1</td>\n",
       "      <td>White</td>\n",
       "    </tr>\n",
       "    <tr>\n",
       "      <th>1</th>\n",
       "      <td>SM-4D5RD</td>\n",
       "      <td>Neuropsychiatry / Carlos Pato (USC) - Schizoph...</td>\n",
       "      <td>06C53798</td>\n",
       "      <td>PT-168OF</td>\n",
       "      <td>06C53798</td>\n",
       "      <td>1.085073e+09</td>\n",
       "      <td>Male</td>\n",
       "      <td>Schizophrenia</td>\n",
       "      <td>2</td>\n",
       "      <td>White</td>\n",
       "    </tr>\n",
       "    <tr>\n",
       "      <th>2</th>\n",
       "      <td>SM-4D5RE</td>\n",
       "      <td>Neuropsychiatry / Carlos Pato (USC) - Schizoph...</td>\n",
       "      <td>04C32673</td>\n",
       "      <td>PT-168OV</td>\n",
       "      <td>04C32673</td>\n",
       "      <td>1.085075e+09</td>\n",
       "      <td>Female</td>\n",
       "      <td>Schizophrenia</td>\n",
       "      <td>2</td>\n",
       "      <td>White</td>\n",
       "    </tr>\n",
       "    <tr>\n",
       "      <th>3</th>\n",
       "      <td>SM-4D5RF</td>\n",
       "      <td>Neuropsychiatry / Carlos Pato (USC) - Schizoph...</td>\n",
       "      <td>07C66831</td>\n",
       "      <td>PT-168PC</td>\n",
       "      <td>07C66831</td>\n",
       "      <td>1.085075e+09</td>\n",
       "      <td>Male</td>\n",
       "      <td>Schizophrenia</td>\n",
       "      <td>2</td>\n",
       "      <td>White</td>\n",
       "    </tr>\n",
       "    <tr>\n",
       "      <th>4</th>\n",
       "      <td>SM-4D5RG</td>\n",
       "      <td>Neuropsychiatry / Carlos Pato (USC) - Schizoph...</td>\n",
       "      <td>06C55704</td>\n",
       "      <td>PT-168PS</td>\n",
       "      <td>06C55704</td>\n",
       "      <td>1.085075e+09</td>\n",
       "      <td>Male</td>\n",
       "      <td>Schizophrenia</td>\n",
       "      <td>2</td>\n",
       "      <td>White</td>\n",
       "    </tr>\n",
       "  </tbody>\n",
       "</table>\n",
       "</div>"
      ],
      "text/plain": [
       "  Sample ID                                         Collection  \\\n",
       "0  SM-4D3L1  Neuropsychiatry / Carlos Pato (USC) - Schizoph...   \n",
       "1  SM-4D5RD  Neuropsychiatry / Carlos Pato (USC) - Schizoph...   \n",
       "2  SM-4D5RE  Neuropsychiatry / Carlos Pato (USC) - Schizoph...   \n",
       "3  SM-4D5RF  Neuropsychiatry / Carlos Pato (USC) - Schizoph...   \n",
       "4  SM-4D5RG  Neuropsychiatry / Carlos Pato (USC) - Schizoph...   \n",
       "\n",
       "  Collaborator Participant ID Participant ID Collaborator Sample ID  \\\n",
       "0                   11C119483       PT-15C6W              262-13409   \n",
       "1                    06C53798       PT-168OF               06C53798   \n",
       "2                    04C32673       PT-168OV               04C32673   \n",
       "3                    07C66831       PT-168PC               07C66831   \n",
       "4                    06C55704       PT-168PS               06C55704   \n",
       "\n",
       "   Collaborator Sample ID_2  Gender Primary Disease  Case Control Status  \\\n",
       "0                       NaN    Male         Control                    1   \n",
       "1              1.085073e+09    Male   Schizophrenia                    2   \n",
       "2              1.085075e+09  Female   Schizophrenia                    2   \n",
       "3              1.085075e+09    Male   Schizophrenia                    2   \n",
       "4              1.085075e+09    Male   Schizophrenia                    2   \n",
       "\n",
       "    Race  \n",
       "0  White  \n",
       "1  White  \n",
       "2  White  \n",
       "3  White  \n",
       "4  White  "
      ]
     },
     "execution_count": 14,
     "metadata": {},
     "output_type": "execute_result"
    }
   ],
   "source": [
    "phenotype.head()"
   ]
  },
  {
   "cell_type": "code",
   "execution_count": 15,
   "metadata": {
    "collapsed": false
   },
   "outputs": [],
   "source": [
    "fam_merged = fam_merged.merge(phenotype, \n",
    "                              left_on='COLLABORATOR_PARTICIPANT_ID', \n",
    "                              right_on='Collaborator Participant ID',\n",
    "                              how='left')"
   ]
  },
  {
   "cell_type": "code",
   "execution_count": 16,
   "metadata": {
    "collapsed": false
   },
   "outputs": [],
   "source": [
    "fam_new = fam_merged[['SAMPLE_ID', \n",
    "                      'COLLABORATOR_PARTICIPANT_ID', \n",
    "                      'pid',\n",
    "                      'mid',\n",
    "                      'sex',\n",
    "                      'Case Control Status']]\n",
    "fam_new.to_csv('~/projects/VCF GWAS concordance/data/GPC_COGS_CAU_VCF_filtered.fam', \n",
    "               header=None, \n",
    "               index=None, \n",
    "               sep=' ')"
   ]
  },
  {
   "cell_type": "code",
   "execution_count": null,
   "metadata": {
    "collapsed": true
   },
   "outputs": [],
   "source": []
  }
 ],
 "metadata": {
  "kernelspec": {
   "display_name": "Python 2",
   "language": "python",
   "name": "python2"
  },
  "language_info": {
   "codemirror_mode": {
    "name": "ipython",
    "version": 2
   },
   "file_extension": ".py",
   "mimetype": "text/x-python",
   "name": "python",
   "nbconvert_exporter": "python",
   "pygments_lexer": "ipython2",
   "version": "2.7.12"
  }
 },
 "nbformat": 4,
 "nbformat_minor": 2
}
