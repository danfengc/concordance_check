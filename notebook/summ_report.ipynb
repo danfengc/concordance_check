{
 "cells": [
  {
   "cell_type": "markdown",
   "metadata": {},
   "source": [
    "## Summary of the heterozyous call"
   ]
  },
  {
   "cell_type": "markdown",
   "metadata": {},
   "source": [
    "### The results showed that genotyping errors are more likely to occur in males,  compared with females \n",
    "- number of males that had heterozyous calls in X/Y regions\n",
    "    - 3callers: 2033\n",
    "    - 2callers: 2037\n",
    "    - VCF: 2019\n",
    "    \n",
    "- number of females that had nonmissing calls in Y\n",
    "    - 3callers: 0\n",
    "    - 2callers: 0\n",
    "    - VCF: 0"
   ]
  }
 ],
 "metadata": {
  "kernelspec": {
   "display_name": "Python 2",
   "language": "python",
   "name": "python2"
  },
  "language_info": {
   "codemirror_mode": {
    "name": "ipython",
    "version": 2
   },
   "file_extension": ".py",
   "mimetype": "text/x-python",
   "name": "python",
   "nbconvert_exporter": "python",
   "pygments_lexer": "ipython2",
   "version": "2.7.12"
  }
 },
 "nbformat": 4,
 "nbformat_minor": 2
}
